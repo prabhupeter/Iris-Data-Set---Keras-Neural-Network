{
  "cells": [
    {
      "cell_type": "markdown",
      "metadata": {
        "id": "W-Sg1c4cyMjw"
      },
      "source": [
        "# Iris Neural Network\n",
        "\n",
        "## Introduction\n",
        "\n",
        "Artifical Neural Networks are quickly becoming one of the most popular and widely used mechanisms in Machine Learning and Data Analysis. In the last number of years, numerous libraries and software has been developed to equip programmers with a set of tools for modeling and analysing data in order to recognise patterns and make predictions using large data sets. In today's age of [Big Data](https://en.wikipedia.org/wiki/Big_data) it is important to try make sense of all of the data we have in society. This could range from social media pattern recognitions from anything to finance and economic trends. The reality is that today we have more data in existence than ever before and it growing at a vast and exponential rate.\n",
        "\n",
        "Artifical Neural Networks aim to mimic and replicate the neurons of a human brain and using the power of the complex mathematical functions allow us to process and model data in such a way that we can form rational assumptions on a given data set.\n",
        "\n",
        "Given the sheer amount of data out there it is important to note that data we may analyse is often subject to human error and may not always hold a valid essense of truth. For the purpose of this example we will take a look at the [Iris Data Set](https://archive.ics.uci.edu/ml/datasets/iris).\n",
        "\n",
        "\n",
        "\n",
        "Throughout the notebook we aim to build an Artifical Neural Network capable of making predictions of species of Iris Flowers using [Keras](https://keras.io) - Keras is a high-level neural networks API, written in Python and capable of running on top of [Tensorflow](https://www.tensorflow.org/).\n",
        "\n",
        "So without further ado, lets get started!"
      ]
    },
    {
      "cell_type": "markdown",
      "metadata": {
        "id": "fJW4uPKNyMj3"
      },
      "source": [
        "## Importing the data set"
      ]
    },
    {
      "cell_type": "code",
      "execution_count": 2,
      "metadata": {
        "id": "HzKNcXmEyMj4"
      },
      "outputs": [],
      "source": [
        "\n",
        "\n",
        "# imports and preliminaries\n",
        "import csv\n",
        "import numpy as np\n",
        "import keras as kr\n",
        "\n",
        "# Load the Iris dataset.\n",
        "iris = list(csv.reader(open('/content/drive/MyDrive/all ml/iris-data-set.csv')))[1:]"
      ]
    },
    {
      "cell_type": "code",
      "source": [
        "iris"
      ],
      "metadata": {
        "colab": {
          "base_uri": "https://localhost:8080/"
        },
        "id": "CKATVaPF3js5",
        "outputId": "a0e55c50-5c74-479d-f6ec-db7f6daa98ed"
      },
      "execution_count": 3,
      "outputs": [
        {
          "output_type": "execute_result",
          "data": {
            "text/plain": [
              "[['5.1', '3.5', '1.4', '0.2', 'setosa'],\n",
              " ['4.9', '3.0', '1.4', '0.2', 'setosa'],\n",
              " ['4.7', '3.2', '1.3', '0.2', 'setosa'],\n",
              " ['4.6', '3.1', '1.5', '0.2', 'setosa'],\n",
              " ['5.0', '3.6', '1.4', '0.2', 'setosa'],\n",
              " ['5.4', '3.9', '1.7', '0.4', 'setosa'],\n",
              " ['4.6', '3.4', '1.4', '0.3', 'setosa'],\n",
              " ['5.0', '3.4', '1.5', '0.2', 'setosa'],\n",
              " ['4.4', '2.9', '1.4', '0.2', 'setosa'],\n",
              " ['4.9', '3.1', '1.5', '0.1', 'setosa'],\n",
              " ['5.4', '3.7', '1.5', '0.2', 'setosa'],\n",
              " ['4.8', '3.4', '1.6', '0.2', 'setosa'],\n",
              " ['4.8', '3.0', '1.4', '0.1', 'setosa'],\n",
              " ['4.3', '3.0', '1.1', '0.1', 'setosa'],\n",
              " ['5.8', '4.0', '1.2', '0.2', 'setosa'],\n",
              " ['5.7', '4.4', '1.5', '0.4', 'setosa'],\n",
              " ['5.4', '3.9', '1.3', '0.4', 'setosa'],\n",
              " ['5.1', '3.5', '1.4', '0.3', 'setosa'],\n",
              " ['5.7', '3.8', '1.7', '0.3', 'setosa'],\n",
              " ['5.1', '3.8', '1.5', '0.3', 'setosa'],\n",
              " ['5.4', '3.4', '1.7', '0.2', 'setosa'],\n",
              " ['5.1', '3.7', '1.5', '0.4', 'setosa'],\n",
              " ['4.6', '3.6', '1.0', '0.2', 'setosa'],\n",
              " ['5.1', '3.3', '1.7', '0.5', 'setosa'],\n",
              " ['4.8', '3.4', '1.9', '0.2', 'setosa'],\n",
              " ['5.0', '3.0', '1.6', '0.2', 'setosa'],\n",
              " ['5.0', '3.4', '1.6', '0.4', 'setosa'],\n",
              " ['5.2', '3.5', '1.5', '0.2', 'setosa'],\n",
              " ['5.2', '3.4', '1.4', '0.2', 'setosa'],\n",
              " ['4.7', '3.2', '1.6', '0.2', 'setosa'],\n",
              " ['4.8', '3.1', '1.6', '0.2', 'setosa'],\n",
              " ['5.4', '3.4', '1.5', '0.4', 'setosa'],\n",
              " ['5.2', '4.1', '1.5', '0.1', 'setosa'],\n",
              " ['5.5', '4.2', '1.4', '0.2', 'setosa'],\n",
              " ['4.9', '3.1', '1.5', '0.1', 'setosa'],\n",
              " ['5.0', '3.2', '1.2', '0.2', 'setosa'],\n",
              " ['5.5', '3.5', '1.3', '0.2', 'setosa'],\n",
              " ['4.9', '3.1', '1.5', '0.1', 'setosa'],\n",
              " ['4.4', '3.0', '1.3', '0.2', 'setosa'],\n",
              " ['5.1', '3.4', '1.5', '0.2', 'setosa'],\n",
              " ['5.0', '3.5', '1.3', '0.3', 'setosa'],\n",
              " ['4.5', '2.3', '1.3', '0.3', 'setosa'],\n",
              " ['4.4', '3.2', '1.3', '0.2', 'setosa'],\n",
              " ['5.0', '3.5', '1.6', '0.6', 'setosa'],\n",
              " ['5.1', '3.8', '1.9', '0.4', 'setosa'],\n",
              " ['4.8', '3.0', '1.4', '0.3', 'setosa'],\n",
              " ['5.1', '3.8', '1.6', '0.2', 'setosa'],\n",
              " ['4.6', '3.2', '1.4', '0.2', 'setosa'],\n",
              " ['5.3', '3.7', '1.5', '0.2', 'setosa'],\n",
              " ['5.0', '3.3', '1.4', '0.2', 'setosa'],\n",
              " ['7.0', '3.2', '4.7', '1.4', 'versicolor'],\n",
              " ['6.4', '3.2', '4.5', '1.5', 'versicolor'],\n",
              " ['6.9', '3.1', '4.9', '1.5', 'versicolor'],\n",
              " ['5.5', '2.3', '4.0', '1.3', 'versicolor'],\n",
              " ['6.5', '2.8', '4.6', '1.5', 'versicolor'],\n",
              " ['5.7', '2.8', '4.5', '1.3', 'versicolor'],\n",
              " ['6.3', '3.3', '4.7', '1.6', 'versicolor'],\n",
              " ['4.9', '2.4', '3.3', '1.0', 'versicolor'],\n",
              " ['6.6', '2.9', '4.6', '1.3', 'versicolor'],\n",
              " ['5.2', '2.7', '3.9', '1.4', 'versicolor'],\n",
              " ['5.0', '2.0', '3.5', '1.0', 'versicolor'],\n",
              " ['5.9', '3.0', '4.2', '1.5', 'versicolor'],\n",
              " ['6.0', '2.2', '4.0', '1.0', 'versicolor'],\n",
              " ['6.1', '2.9', '4.7', '1.4', 'versicolor'],\n",
              " ['5.6', '2.9', '3.6', '1.3', 'versicolor'],\n",
              " ['6.7', '3.1', '4.4', '1.4', 'versicolor'],\n",
              " ['5.6', '3.0', '4.5', '1.5', 'versicolor'],\n",
              " ['5.8', '2.7', '4.1', '1.0', 'versicolor'],\n",
              " ['6.2', '2.2', '4.5', '1.5', 'versicolor'],\n",
              " ['5.6', '2.5', '3.9', '1.1', 'versicolor'],\n",
              " ['5.9', '3.2', '4.8', '1.8', 'versicolor'],\n",
              " ['6.1', '2.8', '4.0', '1.3', 'versicolor'],\n",
              " ['6.3', '2.5', '4.9', '1.5', 'versicolor'],\n",
              " ['6.1', '2.8', '4.7', '1.2', 'versicolor'],\n",
              " ['6.4', '2.9', '4.3', '1.3', 'versicolor'],\n",
              " ['6.6', '3.0', '4.4', '1.4', 'versicolor'],\n",
              " ['6.8', '2.8', '4.8', '1.4', 'versicolor'],\n",
              " ['6.7', '3.0', '5.0', '1.7', 'versicolor'],\n",
              " ['6.0', '2.9', '4.5', '1.5', 'versicolor'],\n",
              " ['5.7', '2.6', '3.5', '1.0', 'versicolor'],\n",
              " ['5.5', '2.4', '3.8', '1.1', 'versicolor'],\n",
              " ['5.5', '2.4', '3.7', '1.0', 'versicolor'],\n",
              " ['5.8', '2.7', '3.9', '1.2', 'versicolor'],\n",
              " ['6.0', '2.7', '5.1', '1.6', 'versicolor'],\n",
              " ['5.4', '3.0', '4.5', '1.5', 'versicolor'],\n",
              " ['6.0', '3.4', '4.5', '1.6', 'versicolor'],\n",
              " ['6.7', '3.1', '4.7', '1.5', 'versicolor'],\n",
              " ['6.3', '2.3', '4.4', '1.3', 'versicolor'],\n",
              " ['5.6', '3.0', '4.1', '1.3', 'versicolor'],\n",
              " ['5.5', '2.5', '4.0', '1.3', 'versicolor'],\n",
              " ['5.5', '2.6', '4.4', '1.2', 'versicolor'],\n",
              " ['6.1', '3.0', '4.6', '1.4', 'versicolor'],\n",
              " ['5.8', '2.6', '4.0', '1.2', 'versicolor'],\n",
              " ['5.0', '2.3', '3.3', '1.0', 'versicolor'],\n",
              " ['5.6', '2.7', '4.2', '1.3', 'versicolor'],\n",
              " ['5.7', '3.0', '4.2', '1.2', 'versicolor'],\n",
              " ['5.7', '2.9', '4.2', '1.3', 'versicolor'],\n",
              " ['6.2', '2.9', '4.3', '1.3', 'versicolor'],\n",
              " ['5.1', '2.5', '3.0', '1.1', 'versicolor'],\n",
              " ['5.7', '2.8', '4.1', '1.3', 'versicolor'],\n",
              " ['6.3', '3.3', '6.0', '2.5', 'virginica'],\n",
              " ['5.8', '2.7', '5.1', '1.9', 'virginica'],\n",
              " ['7.1', '3.0', '5.9', '2.1', 'virginica'],\n",
              " ['6.3', '2.9', '5.6', '1.8', 'virginica'],\n",
              " ['6.5', '3.0', '5.8', '2.2', 'virginica'],\n",
              " ['7.6', '3.0', '6.6', '2.1', 'virginica'],\n",
              " ['4.9', '2.5', '4.5', '1.7', 'virginica'],\n",
              " ['7.3', '2.9', '6.3', '1.8', 'virginica'],\n",
              " ['6.7', '2.5', '5.8', '1.8', 'virginica'],\n",
              " ['7.2', '3.6', '6.1', '2.5', 'virginica'],\n",
              " ['6.5', '3.2', '5.1', '2.0', 'virginica'],\n",
              " ['6.4', '2.7', '5.3', '1.9', 'virginica'],\n",
              " ['6.8', '3.0', '5.5', '2.1', 'virginica'],\n",
              " ['5.7', '2.5', '5.0', '2.0', 'virginica'],\n",
              " ['5.8', '2.8', '5.1', '2.4', 'virginica'],\n",
              " ['6.4', '3.2', '5.3', '2.3', 'virginica'],\n",
              " ['6.5', '3.0', '5.5', '1.8', 'virginica'],\n",
              " ['7.7', '3.8', '6.7', '2.2', 'virginica'],\n",
              " ['7.7', '2.6', '6.9', '2.3', 'virginica'],\n",
              " ['6.0', '2.2', '5.0', '1.5', 'virginica'],\n",
              " ['6.9', '3.2', '5.7', '2.3', 'virginica'],\n",
              " ['5.6', '2.8', '4.9', '2.0', 'virginica'],\n",
              " ['7.7', '2.8', '6.7', '2.0', 'virginica'],\n",
              " ['6.3', '2.7', '4.9', '1.8', 'virginica'],\n",
              " ['6.7', '3.3', '5.7', '2.1', 'virginica'],\n",
              " ['7.2', '3.2', '6.0', '1.8', 'virginica'],\n",
              " ['6.2', '2.8', '4.8', '1.8', 'virginica'],\n",
              " ['6.1', '3.0', '4.9', '1.8', 'virginica'],\n",
              " ['6.4', '2.8', '5.6', '2.1', 'virginica'],\n",
              " ['7.2', '3.0', '5.8', '1.6', 'virginica'],\n",
              " ['7.4', '2.8', '6.1', '1.9', 'virginica'],\n",
              " ['7.9', '3.8', '6.4', '2.0', 'virginica'],\n",
              " ['6.4', '2.8', '5.6', '2.2', 'virginica'],\n",
              " ['6.3', '2.8', '5.1', '1.5', 'virginica'],\n",
              " ['6.1', '2.6', '5.6', '1.4', 'virginica'],\n",
              " ['7.7', '3.0', '6.1', '2.3', 'virginica'],\n",
              " ['6.3', '3.4', '5.6', '2.4', 'virginica'],\n",
              " ['6.4', '3.1', '5.5', '1.8', 'virginica'],\n",
              " ['6.0', '3.0', '4.8', '1.8', 'virginica'],\n",
              " ['6.9', '3.1', '5.4', '2.1', 'virginica'],\n",
              " ['6.7', '3.1', '5.6', '2.4', 'virginica'],\n",
              " ['6.9', '3.1', '5.1', '2.3', 'virginica'],\n",
              " ['5.8', '2.7', '5.1', '1.9', 'virginica'],\n",
              " ['6.8', '3.2', '5.9', '2.3', 'virginica'],\n",
              " ['6.7', '3.3', '5.7', '2.5', 'virginica'],\n",
              " ['6.7', '3.0', '5.2', '2.3', 'virginica'],\n",
              " ['6.3', '2.5', '5.0', '1.9', 'virginica'],\n",
              " ['6.5', '3.0', '5.2', '2.0', 'virginica'],\n",
              " ['6.2', '3.4', '5.4', '2.3', 'virginica'],\n",
              " ['5.9', '3.0', '5.1', '1.8', 'virginica']]"
            ]
          },
          "metadata": {},
          "execution_count": 3
        }
      ]
    },
    {
      "cell_type": "markdown",
      "metadata": {
        "id": "k1vb2pcKyMj7"
      },
      "source": [
        "## Inputs and Outputs\n",
        "### Data Investigation and Classification\n",
        "\n",
        "Before trying to create a model for our Neural Network we first need to investigate our data and determine what will be the inputs and what will be our outputs. The CSV file provided contains 5 columns with:\n",
        "\n",
        "- Sepal Length\n",
        "- Sepal Width\n",
        "- Petal Length\n",
        "- Petal Width\n",
        "- Species\n",
        "\n",
        "Judging by the fact that we are trying to make predictions we must split our data set into sets of:\n",
        "\n",
        "- Inputs - Numerical data values\n",
        "- Outputs - Classification of Iris Flower species\n",
        "\n",
        "\n",
        "Now that we have the data set loaded we can extract the data we need into appropriate data sets in preparation for training and testing our Model."
      ]
    },
    {
      "cell_type": "code",
      "source": [
        "from google.colab import drive\n",
        "drive.mount('/content/drive')"
      ],
      "metadata": {
        "colab": {
          "base_uri": "https://localhost:8080/"
        },
        "id": "nCNpOabJzR1_",
        "outputId": "e5dd0f26-c55c-404b-ba69-189d78db9dd3"
      },
      "execution_count": 4,
      "outputs": [
        {
          "output_type": "stream",
          "name": "stdout",
          "text": [
            "Drive already mounted at /content/drive; to attempt to forcibly remount, call drive.mount(\"/content/drive\", force_remount=True).\n"
          ]
        }
      ]
    },
    {
      "cell_type": "code",
      "execution_count": 5,
      "metadata": {
        "id": "AzN7FRIfyMj8"
      },
      "outputs": [],
      "source": [
        "# The inputs are four floats: sepal length, sepal width, petal length, petal width.\n",
        "inputs  = np.array(iris)[:,:4].astype(np.float32)\n",
        "\n",
        "# Outputs are initially individual strings: setosa, versicolor or virginica.\n",
        "outputs = np.array(iris)[:,4]\n",
        "\n",
        "# Convert the output strings to ints.\n",
        "outputs_vals, outputs_ints = np.unique(outputs, return_inverse=True)"
      ]
    },
    {
      "cell_type": "markdown",
      "metadata": {
        "id": "TnYSwMz3yMj9"
      },
      "source": [
        "## Categorical Classification\n",
        "\n",
        "Here we are using the Keras utility `to_categorical()` to allow us to turn our output categories into binary class matrices. This is often refered to as \"One-Hot\" encoding. This is for use with categorical_crossentropy and classification of our species (setosa, versicolor and virginica).\n",
        "\n",
        "Each Species will be represented as a binary class matrix.\n",
        "\n",
        "- Setosa [1 0 0]\n",
        "- Versicolor [0 1 0]\n",
        "- Virginica [0 0 1]"
      ]
    },
    {
      "cell_type": "code",
      "execution_count": 6,
      "metadata": {
        "id": "yMWkVIxyyMj-"
      },
      "outputs": [],
      "source": [
        "# Encode the category integers as binary categorical vairables.\n",
        "outputs_cats = kr.utils.to_categorical(outputs_ints)"
      ]
    },
    {
      "cell_type": "markdown",
      "metadata": {
        "id": "eB9te88-yMj_"
      },
      "source": [
        "## Divide & Conquer\n",
        "### Splitting the data\n",
        "\n",
        "We can now randomly split the data into two sets for:\n",
        "\n",
        "- Training\n",
        "- Testing"
      ]
    },
    {
      "cell_type": "code",
      "execution_count": 7,
      "metadata": {
        "id": "dCiAYCUNyMkA"
      },
      "outputs": [],
      "source": [
        "# Split the input and output data sets into training and test subsets.\n",
        "inds = np.random.permutation(len(inputs))\n",
        "train_inds, test_inds = np.array_split(inds, 2)\n",
        "inputs_train, outputs_train = inputs[train_inds], outputs_cats[train_inds]\n",
        "inputs_test,  outputs_test  = inputs[test_inds],  outputs_cats[test_inds]"
      ]
    },
    {
      "cell_type": "code",
      "source": [
        "from google.colab import files\n",
        "from IPython.display import Image # Changed 'image' to 'Image' to import the class correctly"
      ],
      "metadata": {
        "id": "vjzJqB2C53_6"
      },
      "execution_count": 8,
      "outputs": []
    },
    {
      "cell_type": "markdown",
      "source": [
        "# Creating a Model\n",
        "Below we can see an example of a how a Neural Network can be visualized. Every Neural Network is made up of these three main consituents.\n",
        "\n",
        ".Input Layer\n",
        ".xnumber of Hidden Layers\n",
        ".Output Lay\n",
        "![neural_net.jpeg](data:image/jpeg;base64,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))\n",
        "\n"
      ],
      "metadata": {
        "id": "irzzv9A9iW3Z"
      }
    },
    {
      "cell_type": "markdown",
      "source": [
        "# Keras Models\n",
        "Keras offers a very useful and high level API to handle creation of Neural Networks. The Keras Sequential Model is defined as a linear stack of layers. This is perfect for what we need to create an Artificial Neural Network consisting of Input, Output and Hidden nodes. We define our Model and add the layers to it.\n",
        "\n",
        "We are trying to create a model that will look somewhat similar to below:\n",
        "![iris_model.png](data:image/png;base64,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)"
      ],
      "metadata": {
        "id": "2FQUeYsPixhZ"
      }
    },
    {
      "cell_type": "code",
      "execution_count": 12,
      "metadata": {
        "colab": {
          "base_uri": "https://localhost:8080/"
        },
        "id": "j1YxaJrdyMkC",
        "outputId": "57bf247d-518f-4211-86de-c511f4c831ee"
      },
      "outputs": [
        {
          "output_type": "stream",
          "name": "stderr",
          "text": [
            "/usr/local/lib/python3.11/dist-packages/keras/src/layers/core/dense.py:87: UserWarning: Do not pass an `input_shape`/`input_dim` argument to a layer. When using Sequential models, prefer using an `Input(shape)` object as the first layer in the model instead.\n",
            "  super().__init__(activity_regularizer=activity_regularizer, **kwargs)\n"
          ]
        }
      ],
      "source": [
        "# Create a neural network.\n",
        "model = kr.models.Sequential()\n",
        "\n",
        "# Add an initial layer with 4 input nodes, and a hidden layer with 16 nodes.\n",
        "model.add(kr.layers.Dense(16, input_shape=(4,)))\n",
        "# Apply the sigmoid activation function to that layer.\n",
        "model.add(kr.layers.Activation(\"sigmoid\"))\n",
        "# Add another layer, connected to the layer with 16 nodes, containing three output nodes.\n",
        "model.add(kr.layers.Dense(3))\n",
        "# Use the softmax activation function there.\n",
        "model.add(kr.layers.Activation(\"softmax\"))"
      ]
    },
    {
      "cell_type": "markdown",
      "source": [
        "# Activation Functions\n",
        "An Activation Function in a Neural Network defines the output of a given node given its input or set of inputs. Above we applying two activation functions in separate layers.\n",
        "\n",
        "\n",
        "\n",
        "# Sigmoid\n",
        "A sigmoid function is a mathematical function having an \"S\" shaped curve (sigmoid curve). Often, sigmoid function refers to the special case of the logistic function shown in the first figure and defined by the formula:\n",
        "![sigmoid.svg](data:image/svg+xml;base64,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)"
      ],
      "metadata": {
        "id": "Uj_YNjE2jPeT"
      }
    },
    {
      "cell_type": "markdown",
      "source": [
        "above we see a plot of the \"S\" shaped curved or \"Sigmoid Curve\".\n",
        "![Logistic-curve.svg.png](data:image/png;base64,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)"
      ],
      "metadata": {
        "id": "MyDgiAqbkruH"
      }
    },
    {
      "cell_type": "markdown",
      "source": [
        "\n",
        "It's usage in neural network are:\n",
        "\n",
        "Activation function that transform linear inputs to nonlinear outputs.\n",
        "Bound output to between 0 and 1 so that it can be interpreted as a probability.\n",
        "Make computation easier than arbitrary activation functions.\n",
        "![softmax.svg](data:image/svg+xml;base64,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)"
      ],
      "metadata": {
        "id": "9ByZ2LMRlBpC"
      }
    },
    {
      "cell_type": "markdown",
      "metadata": {
        "id": "xgIbkoKoyMkD"
      },
      "source": [
        "\n",
        "\n",
        "\n",
        "### Softmax\n",
        "\n",
        "\n",
        "Softmax regression is defined by the mathematical formula:\n",
        "\n",
        "\n",
        "\n",
        "Here are using Softmax to allow us to let our data flow through the hidden layers and essentially end up as one of our defined classes:\n",
        "\n",
        "- Setosa\n",
        "- Versicolor\n",
        "- Virginica\n"
      ]
    },
    {
      "cell_type": "code",
      "execution_count": 16,
      "metadata": {
        "colab": {
          "base_uri": "https://localhost:8080/",
          "height": 257
        },
        "id": "0yZy3NvTyMkE",
        "outputId": "c74d7520-9858-490f-f11d-7751a9e07837"
      },
      "outputs": [
        {
          "output_type": "display_data",
          "data": {
            "text/plain": [
              "\u001b[1mModel: \"sequential\"\u001b[0m\n"
            ],
            "text/html": [
              "<pre style=\"white-space:pre;overflow-x:auto;line-height:normal;font-family:Menlo,'DejaVu Sans Mono',consolas,'Courier New',monospace\"><span style=\"font-weight: bold\">Model: \"sequential\"</span>\n",
              "</pre>\n"
            ]
          },
          "metadata": {}
        },
        {
          "output_type": "display_data",
          "data": {
            "text/plain": [
              "┏━━━━━━━━━━━━━━━━━━━━━━━━━━━━━━━━━━━━━━┳━━━━━━━━━━━━━━━━━━━━━━━━━━━━━┳━━━━━━━━━━━━━━━━━┓\n",
              "┃\u001b[1m \u001b[0m\u001b[1mLayer (type)                        \u001b[0m\u001b[1m \u001b[0m┃\u001b[1m \u001b[0m\u001b[1mOutput Shape               \u001b[0m\u001b[1m \u001b[0m┃\u001b[1m \u001b[0m\u001b[1m        Param #\u001b[0m\u001b[1m \u001b[0m┃\n",
              "┡━━━━━━━━━━━━━━━━━━━━━━━━━━━━━━━━━━━━━━╇━━━━━━━━━━━━━━━━━━━━━━━━━━━━━╇━━━━━━━━━━━━━━━━━┩\n",
              "│ dense (\u001b[38;5;33mDense\u001b[0m)                        │ (\u001b[38;5;45mNone\u001b[0m, \u001b[38;5;34m16\u001b[0m)                  │              \u001b[38;5;34m80\u001b[0m │\n",
              "├──────────────────────────────────────┼─────────────────────────────┼─────────────────┤\n",
              "│ activation (\u001b[38;5;33mActivation\u001b[0m)              │ (\u001b[38;5;45mNone\u001b[0m, \u001b[38;5;34m16\u001b[0m)                  │               \u001b[38;5;34m0\u001b[0m │\n",
              "├──────────────────────────────────────┼─────────────────────────────┼─────────────────┤\n",
              "│ dense_1 (\u001b[38;5;33mDense\u001b[0m)                      │ (\u001b[38;5;45mNone\u001b[0m, \u001b[38;5;34m3\u001b[0m)                   │              \u001b[38;5;34m51\u001b[0m │\n",
              "├──────────────────────────────────────┼─────────────────────────────┼─────────────────┤\n",
              "│ activation_1 (\u001b[38;5;33mActivation\u001b[0m)            │ (\u001b[38;5;45mNone\u001b[0m, \u001b[38;5;34m3\u001b[0m)                   │               \u001b[38;5;34m0\u001b[0m │\n",
              "└──────────────────────────────────────┴─────────────────────────────┴─────────────────┘\n"
            ],
            "text/html": [
              "<pre style=\"white-space:pre;overflow-x:auto;line-height:normal;font-family:Menlo,'DejaVu Sans Mono',consolas,'Courier New',monospace\">┏━━━━━━━━━━━━━━━━━━━━━━━━━━━━━━━━━━━━━━┳━━━━━━━━━━━━━━━━━━━━━━━━━━━━━┳━━━━━━━━━━━━━━━━━┓\n",
              "┃<span style=\"font-weight: bold\"> Layer (type)                         </span>┃<span style=\"font-weight: bold\"> Output Shape                </span>┃<span style=\"font-weight: bold\">         Param # </span>┃\n",
              "┡━━━━━━━━━━━━━━━━━━━━━━━━━━━━━━━━━━━━━━╇━━━━━━━━━━━━━━━━━━━━━━━━━━━━━╇━━━━━━━━━━━━━━━━━┩\n",
              "│ dense (<span style=\"color: #0087ff; text-decoration-color: #0087ff\">Dense</span>)                        │ (<span style=\"color: #00d7ff; text-decoration-color: #00d7ff\">None</span>, <span style=\"color: #00af00; text-decoration-color: #00af00\">16</span>)                  │              <span style=\"color: #00af00; text-decoration-color: #00af00\">80</span> │\n",
              "├──────────────────────────────────────┼─────────────────────────────┼─────────────────┤\n",
              "│ activation (<span style=\"color: #0087ff; text-decoration-color: #0087ff\">Activation</span>)              │ (<span style=\"color: #00d7ff; text-decoration-color: #00d7ff\">None</span>, <span style=\"color: #00af00; text-decoration-color: #00af00\">16</span>)                  │               <span style=\"color: #00af00; text-decoration-color: #00af00\">0</span> │\n",
              "├──────────────────────────────────────┼─────────────────────────────┼─────────────────┤\n",
              "│ dense_1 (<span style=\"color: #0087ff; text-decoration-color: #0087ff\">Dense</span>)                      │ (<span style=\"color: #00d7ff; text-decoration-color: #00d7ff\">None</span>, <span style=\"color: #00af00; text-decoration-color: #00af00\">3</span>)                   │              <span style=\"color: #00af00; text-decoration-color: #00af00\">51</span> │\n",
              "├──────────────────────────────────────┼─────────────────────────────┼─────────────────┤\n",
              "│ activation_1 (<span style=\"color: #0087ff; text-decoration-color: #0087ff\">Activation</span>)            │ (<span style=\"color: #00d7ff; text-decoration-color: #00d7ff\">None</span>, <span style=\"color: #00af00; text-decoration-color: #00af00\">3</span>)                   │               <span style=\"color: #00af00; text-decoration-color: #00af00\">0</span> │\n",
              "└──────────────────────────────────────┴─────────────────────────────┴─────────────────┘\n",
              "</pre>\n"
            ]
          },
          "metadata": {}
        },
        {
          "output_type": "display_data",
          "data": {
            "text/plain": [
              "\u001b[1m Total params: \u001b[0m\u001b[38;5;34m131\u001b[0m (524.00 B)\n"
            ],
            "text/html": [
              "<pre style=\"white-space:pre;overflow-x:auto;line-height:normal;font-family:Menlo,'DejaVu Sans Mono',consolas,'Courier New',monospace\"><span style=\"font-weight: bold\"> Total params: </span><span style=\"color: #00af00; text-decoration-color: #00af00\">131</span> (524.00 B)\n",
              "</pre>\n"
            ]
          },
          "metadata": {}
        },
        {
          "output_type": "display_data",
          "data": {
            "text/plain": [
              "\u001b[1m Trainable params: \u001b[0m\u001b[38;5;34m131\u001b[0m (524.00 B)\n"
            ],
            "text/html": [
              "<pre style=\"white-space:pre;overflow-x:auto;line-height:normal;font-family:Menlo,'DejaVu Sans Mono',consolas,'Courier New',monospace\"><span style=\"font-weight: bold\"> Trainable params: </span><span style=\"color: #00af00; text-decoration-color: #00af00\">131</span> (524.00 B)\n",
              "</pre>\n"
            ]
          },
          "metadata": {}
        },
        {
          "output_type": "display_data",
          "data": {
            "text/plain": [
              "\u001b[1m Non-trainable params: \u001b[0m\u001b[38;5;34m0\u001b[0m (0.00 B)\n"
            ],
            "text/html": [
              "<pre style=\"white-space:pre;overflow-x:auto;line-height:normal;font-family:Menlo,'DejaVu Sans Mono',consolas,'Courier New',monospace\"><span style=\"font-weight: bold\"> Non-trainable params: </span><span style=\"color: #00af00; text-decoration-color: #00af00\">0</span> (0.00 B)\n",
              "</pre>\n"
            ]
          },
          "metadata": {}
        }
      ],
      "source": [
        "# Display our Model using the summary function\n",
        "model.summary()"
      ]
    },
    {
      "cell_type": "markdown",
      "metadata": {
        "id": "fupUdGPuyMkG"
      },
      "source": [
        "## Configure the Model for training and fit the training data\n",
        "\n",
        "We configure the Model using the `compile()` function defined in the [Keras Model API](https://keras.io/models/model/).\n",
        "We define an Optimizer, a Loss function and an additional metric - accuracy.\n",
        "\n",
        "So before we can use our Model for we must first train it. Using the training data subset which we extracted before we can now fit it to our Model.\n",
        "\n",
        "The goal here is for the Optimizer to essentially minimize the Loss.\n",
        "\n",
        "We fit the model passing our inputs and our expected outputs and train it across 100 \"Epochs\" or training cycles. On each iteration we improve the improve the accuracy and miniize the loss."
      ]
    },
    {
      "cell_type": "code",
      "execution_count": 17,
      "metadata": {
        "colab": {
          "base_uri": "https://localhost:8080/"
        },
        "id": "xqzzLr-DyMkH",
        "outputId": "f8282fe1-7eaf-4524-e5b0-cf4f11f2bf85"
      },
      "outputs": [
        {
          "output_type": "stream",
          "name": "stdout",
          "text": [
            "Epoch 1/100\n",
            "\u001b[1m75/75\u001b[0m \u001b[32m━━━━━━━━━━━━━━━━━━━━\u001b[0m\u001b[37m\u001b[0m \u001b[1m1s\u001b[0m 1ms/step - accuracy: 0.4209 - loss: 1.0990  \n",
            "Epoch 2/100\n",
            "\u001b[1m75/75\u001b[0m \u001b[32m━━━━━━━━━━━━━━━━━━━━\u001b[0m\u001b[37m\u001b[0m \u001b[1m0s\u001b[0m 1ms/step - accuracy: 0.3433 - loss: 1.0582  \n",
            "Epoch 3/100\n",
            "\u001b[1m75/75\u001b[0m \u001b[32m━━━━━━━━━━━━━━━━━━━━\u001b[0m\u001b[37m\u001b[0m \u001b[1m0s\u001b[0m 1ms/step - accuracy: 0.3702 - loss: 1.0108  \n",
            "Epoch 4/100\n",
            "\u001b[1m75/75\u001b[0m \u001b[32m━━━━━━━━━━━━━━━━━━━━\u001b[0m\u001b[37m\u001b[0m \u001b[1m0s\u001b[0m 1ms/step - accuracy: 0.5322 - loss: 0.9768\n",
            "Epoch 5/100\n",
            "\u001b[1m75/75\u001b[0m \u001b[32m━━━━━━━━━━━━━━━━━━━━\u001b[0m\u001b[37m\u001b[0m \u001b[1m0s\u001b[0m 1ms/step - accuracy: 0.7799 - loss: 0.9325  \n",
            "Epoch 6/100\n",
            "\u001b[1m75/75\u001b[0m \u001b[32m━━━━━━━━━━━━━━━━━━━━\u001b[0m\u001b[37m\u001b[0m \u001b[1m0s\u001b[0m 1ms/step - accuracy: 0.7332 - loss: 0.8989  \n",
            "Epoch 7/100\n",
            "\u001b[1m75/75\u001b[0m \u001b[32m━━━━━━━━━━━━━━━━━━━━\u001b[0m\u001b[37m\u001b[0m \u001b[1m0s\u001b[0m 1ms/step - accuracy: 0.7902 - loss: 0.8734\n",
            "Epoch 8/100\n",
            "\u001b[1m75/75\u001b[0m \u001b[32m━━━━━━━━━━━━━━━━━━━━\u001b[0m\u001b[37m\u001b[0m \u001b[1m0s\u001b[0m 1ms/step - accuracy: 0.7777 - loss: 0.8316\n",
            "Epoch 9/100\n",
            "\u001b[1m75/75\u001b[0m \u001b[32m━━━━━━━━━━━━━━━━━━━━\u001b[0m\u001b[37m\u001b[0m \u001b[1m0s\u001b[0m 1ms/step - accuracy: 0.7500 - loss: 0.7696  \n",
            "Epoch 10/100\n",
            "\u001b[1m75/75\u001b[0m \u001b[32m━━━━━━━━━━━━━━━━━━━━\u001b[0m\u001b[37m\u001b[0m \u001b[1m0s\u001b[0m 1ms/step - accuracy: 0.8887 - loss: 0.7163  \n",
            "Epoch 11/100\n",
            "\u001b[1m75/75\u001b[0m \u001b[32m━━━━━━━━━━━━━━━━━━━━\u001b[0m\u001b[37m\u001b[0m \u001b[1m0s\u001b[0m 1ms/step - accuracy: 0.9264 - loss: 0.7148  \n",
            "Epoch 12/100\n",
            "\u001b[1m75/75\u001b[0m \u001b[32m━━━━━━━━━━━━━━━━━━━━\u001b[0m\u001b[37m\u001b[0m \u001b[1m0s\u001b[0m 1ms/step - accuracy: 0.8260 - loss: 0.6670\n",
            "Epoch 13/100\n",
            "\u001b[1m75/75\u001b[0m \u001b[32m━━━━━━━━━━━━━━━━━━━━\u001b[0m\u001b[37m\u001b[0m \u001b[1m0s\u001b[0m 1ms/step - accuracy: 0.8566 - loss: 0.6952  \n",
            "Epoch 14/100\n",
            "\u001b[1m75/75\u001b[0m \u001b[32m━━━━━━━━━━━━━━━━━━━━\u001b[0m\u001b[37m\u001b[0m \u001b[1m0s\u001b[0m 2ms/step - accuracy: 0.8536 - loss: 0.6168\n",
            "Epoch 15/100\n",
            "\u001b[1m75/75\u001b[0m \u001b[32m━━━━━━━━━━━━━━━━━━━━\u001b[0m\u001b[37m\u001b[0m \u001b[1m0s\u001b[0m 2ms/step - accuracy: 0.7993 - loss: 0.6001\n",
            "Epoch 16/100\n",
            "\u001b[1m75/75\u001b[0m \u001b[32m━━━━━━━━━━━━━━━━━━━━\u001b[0m\u001b[37m\u001b[0m \u001b[1m0s\u001b[0m 2ms/step - accuracy: 0.8747 - loss: 0.5928\n",
            "Epoch 17/100\n",
            "\u001b[1m75/75\u001b[0m \u001b[32m━━━━━━━━━━━━━━━━━━━━\u001b[0m\u001b[37m\u001b[0m \u001b[1m0s\u001b[0m 1ms/step - accuracy: 0.9217 - loss: 0.5895\n",
            "Epoch 18/100\n",
            "\u001b[1m75/75\u001b[0m \u001b[32m━━━━━━━━━━━━━━━━━━━━\u001b[0m\u001b[37m\u001b[0m \u001b[1m0s\u001b[0m 2ms/step - accuracy: 0.8647 - loss: 0.5995\n",
            "Epoch 19/100\n",
            "\u001b[1m75/75\u001b[0m \u001b[32m━━━━━━━━━━━━━━━━━━━━\u001b[0m\u001b[37m\u001b[0m \u001b[1m0s\u001b[0m 2ms/step - accuracy: 0.9669 - loss: 0.5051\n",
            "Epoch 20/100\n",
            "\u001b[1m75/75\u001b[0m \u001b[32m━━━━━━━━━━━━━━━━━━━━\u001b[0m\u001b[37m\u001b[0m \u001b[1m0s\u001b[0m 2ms/step - accuracy: 0.9259 - loss: 0.6071\n",
            "Epoch 21/100\n",
            "\u001b[1m75/75\u001b[0m \u001b[32m━━━━━━━━━━━━━━━━━━━━\u001b[0m\u001b[37m\u001b[0m \u001b[1m0s\u001b[0m 1ms/step - accuracy: 0.8784 - loss: 0.5136  \n",
            "Epoch 22/100\n",
            "\u001b[1m75/75\u001b[0m \u001b[32m━━━━━━━━━━━━━━━━━━━━\u001b[0m\u001b[37m\u001b[0m \u001b[1m0s\u001b[0m 2ms/step - accuracy: 0.8918 - loss: 0.5545\n",
            "Epoch 23/100\n",
            "\u001b[1m75/75\u001b[0m \u001b[32m━━━━━━━━━━━━━━━━━━━━\u001b[0m\u001b[37m\u001b[0m \u001b[1m0s\u001b[0m 2ms/step - accuracy: 0.9323 - loss: 0.5357\n",
            "Epoch 24/100\n",
            "\u001b[1m75/75\u001b[0m \u001b[32m━━━━━━━━━━━━━━━━━━━━\u001b[0m\u001b[37m\u001b[0m \u001b[1m0s\u001b[0m 2ms/step - accuracy: 0.9565 - loss: 0.4340\n",
            "Epoch 25/100\n",
            "\u001b[1m75/75\u001b[0m \u001b[32m━━━━━━━━━━━━━━━━━━━━\u001b[0m\u001b[37m\u001b[0m \u001b[1m0s\u001b[0m 2ms/step - accuracy: 0.9186 - loss: 0.5067\n",
            "Epoch 26/100\n",
            "\u001b[1m75/75\u001b[0m \u001b[32m━━━━━━━━━━━━━━━━━━━━\u001b[0m\u001b[37m\u001b[0m \u001b[1m0s\u001b[0m 1ms/step - accuracy: 0.9389 - loss: 0.4484  \n",
            "Epoch 27/100\n",
            "\u001b[1m75/75\u001b[0m \u001b[32m━━━━━━━━━━━━━━━━━━━━\u001b[0m\u001b[37m\u001b[0m \u001b[1m0s\u001b[0m 1ms/step - accuracy: 0.9062 - loss: 0.4310  \n",
            "Epoch 28/100\n",
            "\u001b[1m75/75\u001b[0m \u001b[32m━━━━━━━━━━━━━━━━━━━━\u001b[0m\u001b[37m\u001b[0m \u001b[1m0s\u001b[0m 1ms/step - accuracy: 0.8872 - loss: 0.4406  \n",
            "Epoch 29/100\n",
            "\u001b[1m75/75\u001b[0m \u001b[32m━━━━━━━━━━━━━━━━━━━━\u001b[0m\u001b[37m\u001b[0m \u001b[1m0s\u001b[0m 1ms/step - accuracy: 0.9501 - loss: 0.4149  \n",
            "Epoch 30/100\n",
            "\u001b[1m75/75\u001b[0m \u001b[32m━━━━━━━━━━━━━━━━━━━━\u001b[0m\u001b[37m\u001b[0m \u001b[1m0s\u001b[0m 1ms/step - accuracy: 0.9264 - loss: 0.4400  \n",
            "Epoch 31/100\n",
            "\u001b[1m75/75\u001b[0m \u001b[32m━━━━━━━━━━━━━━━━━━━━\u001b[0m\u001b[37m\u001b[0m \u001b[1m0s\u001b[0m 1ms/step - accuracy: 0.9993 - loss: 0.3760\n",
            "Epoch 32/100\n",
            "\u001b[1m75/75\u001b[0m \u001b[32m━━━━━━━━━━━━━━━━━━━━\u001b[0m\u001b[37m\u001b[0m \u001b[1m0s\u001b[0m 1ms/step - accuracy: 0.9580 - loss: 0.4166  \n",
            "Epoch 33/100\n",
            "\u001b[1m75/75\u001b[0m \u001b[32m━━━━━━━━━━━━━━━━━━━━\u001b[0m\u001b[37m\u001b[0m \u001b[1m0s\u001b[0m 1ms/step - accuracy: 0.9583 - loss: 0.4029  \n",
            "Epoch 34/100\n",
            "\u001b[1m75/75\u001b[0m \u001b[32m━━━━━━━━━━━━━━━━━━━━\u001b[0m\u001b[37m\u001b[0m \u001b[1m0s\u001b[0m 1ms/step - accuracy: 0.9480 - loss: 0.3909  \n",
            "Epoch 35/100\n",
            "\u001b[1m75/75\u001b[0m \u001b[32m━━━━━━━━━━━━━━━━━━━━\u001b[0m\u001b[37m\u001b[0m \u001b[1m0s\u001b[0m 1ms/step - accuracy: 0.9700 - loss: 0.3888  \n",
            "Epoch 36/100\n",
            "\u001b[1m75/75\u001b[0m \u001b[32m━━━━━━━━━━━━━━━━━━━━\u001b[0m\u001b[37m\u001b[0m \u001b[1m0s\u001b[0m 1ms/step - accuracy: 0.9923 - loss: 0.4112\n",
            "Epoch 37/100\n",
            "\u001b[1m75/75\u001b[0m \u001b[32m━━━━━━━━━━━━━━━━━━━━\u001b[0m\u001b[37m\u001b[0m \u001b[1m0s\u001b[0m 1ms/step - accuracy: 0.9447 - loss: 0.3454  \n",
            "Epoch 38/100\n",
            "\u001b[1m75/75\u001b[0m \u001b[32m━━━━━━━━━━━━━━━━━━━━\u001b[0m\u001b[37m\u001b[0m \u001b[1m0s\u001b[0m 1ms/step - accuracy: 0.9699 - loss: 0.3696  \n",
            "Epoch 39/100\n",
            "\u001b[1m75/75\u001b[0m \u001b[32m━━━━━━━━━━━━━━━━━━━━\u001b[0m\u001b[37m\u001b[0m \u001b[1m0s\u001b[0m 1ms/step - accuracy: 0.9824 - loss: 0.3491\n",
            "Epoch 40/100\n",
            "\u001b[1m75/75\u001b[0m \u001b[32m━━━━━━━━━━━━━━━━━━━━\u001b[0m\u001b[37m\u001b[0m \u001b[1m0s\u001b[0m 1ms/step - accuracy: 0.9563 - loss: 0.3783  \n",
            "Epoch 41/100\n",
            "\u001b[1m75/75\u001b[0m \u001b[32m━━━━━━━━━━━━━━━━━━━━\u001b[0m\u001b[37m\u001b[0m \u001b[1m0s\u001b[0m 1ms/step - accuracy: 0.9711 - loss: 0.3253  \n",
            "Epoch 42/100\n",
            "\u001b[1m75/75\u001b[0m \u001b[32m━━━━━━━━━━━━━━━━━━━━\u001b[0m\u001b[37m\u001b[0m \u001b[1m0s\u001b[0m 1ms/step - accuracy: 0.9339 - loss: 0.3405  \n",
            "Epoch 43/100\n",
            "\u001b[1m75/75\u001b[0m \u001b[32m━━━━━━━━━━━━━━━━━━━━\u001b[0m\u001b[37m\u001b[0m \u001b[1m0s\u001b[0m 1ms/step - accuracy: 0.9647 - loss: 0.3262\n",
            "Epoch 44/100\n",
            "\u001b[1m75/75\u001b[0m \u001b[32m━━━━━━━━━━━━━━━━━━━━\u001b[0m\u001b[37m\u001b[0m \u001b[1m0s\u001b[0m 1ms/step - accuracy: 0.9852 - loss: 0.3531  \n",
            "Epoch 45/100\n",
            "\u001b[1m75/75\u001b[0m \u001b[32m━━━━━━━━━━━━━━━━━━━━\u001b[0m\u001b[37m\u001b[0m \u001b[1m0s\u001b[0m 1ms/step - accuracy: 0.9830 - loss: 0.3459  \n",
            "Epoch 46/100\n",
            "\u001b[1m75/75\u001b[0m \u001b[32m━━━━━━━━━━━━━━━━━━━━\u001b[0m\u001b[37m\u001b[0m \u001b[1m0s\u001b[0m 1ms/step - accuracy: 0.9793 - loss: 0.3008\n",
            "Epoch 47/100\n",
            "\u001b[1m75/75\u001b[0m \u001b[32m━━━━━━━━━━━━━━━━━━━━\u001b[0m\u001b[37m\u001b[0m \u001b[1m0s\u001b[0m 1ms/step - accuracy: 0.9657 - loss: 0.3140\n",
            "Epoch 48/100\n",
            "\u001b[1m75/75\u001b[0m \u001b[32m━━━━━━━━━━━━━━━━━━━━\u001b[0m\u001b[37m\u001b[0m \u001b[1m0s\u001b[0m 1ms/step - accuracy: 0.9940 - loss: 0.3226  \n",
            "Epoch 49/100\n",
            "\u001b[1m75/75\u001b[0m \u001b[32m━━━━━━━━━━━━━━━━━━━━\u001b[0m\u001b[37m\u001b[0m \u001b[1m0s\u001b[0m 1ms/step - accuracy: 0.9936 - loss: 0.2415  \n",
            "Epoch 50/100\n",
            "\u001b[1m75/75\u001b[0m \u001b[32m━━━━━━━━━━━━━━━━━━━━\u001b[0m\u001b[37m\u001b[0m \u001b[1m0s\u001b[0m 1ms/step - accuracy: 0.9810 - loss: 0.2845  \n",
            "Epoch 51/100\n",
            "\u001b[1m75/75\u001b[0m \u001b[32m━━━━━━━━━━━━━━━━━━━━\u001b[0m\u001b[37m\u001b[0m \u001b[1m0s\u001b[0m 1ms/step - accuracy: 0.9870 - loss: 0.2925\n",
            "Epoch 52/100\n",
            "\u001b[1m75/75\u001b[0m \u001b[32m━━━━━━━━━━━━━━━━━━━━\u001b[0m\u001b[37m\u001b[0m \u001b[1m0s\u001b[0m 1ms/step - accuracy: 0.9712 - loss: 0.2568  \n",
            "Epoch 53/100\n",
            "\u001b[1m75/75\u001b[0m \u001b[32m━━━━━━━━━━━━━━━━━━━━\u001b[0m\u001b[37m\u001b[0m \u001b[1m0s\u001b[0m 1ms/step - accuracy: 0.9866 - loss: 0.2587  \n",
            "Epoch 54/100\n",
            "\u001b[1m75/75\u001b[0m \u001b[32m━━━━━━━━━━━━━━━━━━━━\u001b[0m\u001b[37m\u001b[0m \u001b[1m0s\u001b[0m 1ms/step - accuracy: 0.9950 - loss: 0.2832  \n",
            "Epoch 55/100\n",
            "\u001b[1m75/75\u001b[0m \u001b[32m━━━━━━━━━━━━━━━━━━━━\u001b[0m\u001b[37m\u001b[0m \u001b[1m0s\u001b[0m 1ms/step - accuracy: 0.9792 - loss: 0.2477\n",
            "Epoch 56/100\n",
            "\u001b[1m75/75\u001b[0m \u001b[32m━━━━━━━━━━━━━━━━━━━━\u001b[0m\u001b[37m\u001b[0m \u001b[1m0s\u001b[0m 1ms/step - accuracy: 0.9850 - loss: 0.2288  \n",
            "Epoch 57/100\n",
            "\u001b[1m75/75\u001b[0m \u001b[32m━━━━━━━━━━━━━━━━━━━━\u001b[0m\u001b[37m\u001b[0m \u001b[1m0s\u001b[0m 1ms/step - accuracy: 0.9853 - loss: 0.2398  \n",
            "Epoch 58/100\n",
            "\u001b[1m75/75\u001b[0m \u001b[32m━━━━━━━━━━━━━━━━━━━━\u001b[0m\u001b[37m\u001b[0m \u001b[1m0s\u001b[0m 1ms/step - accuracy: 0.9654 - loss: 0.2482  \n",
            "Epoch 59/100\n",
            "\u001b[1m75/75\u001b[0m \u001b[32m━━━━━━━━━━━━━━━━━━━━\u001b[0m\u001b[37m\u001b[0m \u001b[1m0s\u001b[0m 1ms/step - accuracy: 0.9916 - loss: 0.2267\n",
            "Epoch 60/100\n",
            "\u001b[1m75/75\u001b[0m \u001b[32m━━━━━━━━━━━━━━━━━━━━\u001b[0m\u001b[37m\u001b[0m \u001b[1m0s\u001b[0m 1ms/step - accuracy: 0.9732 - loss: 0.2028  \n",
            "Epoch 61/100\n",
            "\u001b[1m75/75\u001b[0m \u001b[32m━━━━━━━━━━━━━━━━━━━━\u001b[0m\u001b[37m\u001b[0m \u001b[1m0s\u001b[0m 1ms/step - accuracy: 0.9515 - loss: 0.2684  \n",
            "Epoch 62/100\n",
            "\u001b[1m75/75\u001b[0m \u001b[32m━━━━━━━━━━━━━━━━━━━━\u001b[0m\u001b[37m\u001b[0m \u001b[1m0s\u001b[0m 1ms/step - accuracy: 0.9709 - loss: 0.2302  \n",
            "Epoch 63/100\n",
            "\u001b[1m75/75\u001b[0m \u001b[32m━━━━━━━━━━━━━━━━━━━━\u001b[0m\u001b[37m\u001b[0m \u001b[1m0s\u001b[0m 1ms/step - accuracy: 0.9856 - loss: 0.2194  \n",
            "Epoch 64/100\n",
            "\u001b[1m75/75\u001b[0m \u001b[32m━━━━━━━━━━━━━━━━━━━━\u001b[0m\u001b[37m\u001b[0m \u001b[1m0s\u001b[0m 1ms/step - accuracy: 0.9799 - loss: 0.2318  \n",
            "Epoch 65/100\n",
            "\u001b[1m75/75\u001b[0m \u001b[32m━━━━━━━━━━━━━━━━━━━━\u001b[0m\u001b[37m\u001b[0m \u001b[1m0s\u001b[0m 1ms/step - accuracy: 0.9665 - loss: 0.2271  \n",
            "Epoch 66/100\n",
            "\u001b[1m75/75\u001b[0m \u001b[32m━━━━━━━━━━━━━━━━━━━━\u001b[0m\u001b[37m\u001b[0m \u001b[1m0s\u001b[0m 1ms/step - accuracy: 0.9757 - loss: 0.1786\n",
            "Epoch 67/100\n",
            "\u001b[1m75/75\u001b[0m \u001b[32m━━━━━━━━━━━━━━━━━━━━\u001b[0m\u001b[37m\u001b[0m \u001b[1m0s\u001b[0m 1ms/step - accuracy: 0.9630 - loss: 0.2108\n",
            "Epoch 68/100\n",
            "\u001b[1m75/75\u001b[0m \u001b[32m━━━━━━━━━━━━━━━━━━━━\u001b[0m\u001b[37m\u001b[0m \u001b[1m0s\u001b[0m 1ms/step - accuracy: 0.9757 - loss: 0.2025  \n",
            "Epoch 69/100\n",
            "\u001b[1m75/75\u001b[0m \u001b[32m━━━━━━━━━━━━━━━━━━━━\u001b[0m\u001b[37m\u001b[0m \u001b[1m0s\u001b[0m 1ms/step - accuracy: 0.9789 - loss: 0.2135  \n",
            "Epoch 70/100\n",
            "\u001b[1m75/75\u001b[0m \u001b[32m━━━━━━━━━━━━━━━━━━━━\u001b[0m\u001b[37m\u001b[0m \u001b[1m0s\u001b[0m 1ms/step - accuracy: 0.9462 - loss: 0.2128  \n",
            "Epoch 71/100\n",
            "\u001b[1m75/75\u001b[0m \u001b[32m━━━━━━━━━━━━━━━━━━━━\u001b[0m\u001b[37m\u001b[0m \u001b[1m0s\u001b[0m 1ms/step - accuracy: 0.9859 - loss: 0.1588\n",
            "Epoch 72/100\n",
            "\u001b[1m75/75\u001b[0m \u001b[32m━━━━━━━━━━━━━━━━━━━━\u001b[0m\u001b[37m\u001b[0m \u001b[1m0s\u001b[0m 1ms/step - accuracy: 0.9649 - loss: 0.1886\n",
            "Epoch 73/100\n",
            "\u001b[1m75/75\u001b[0m \u001b[32m━━━━━━━━━━━━━━━━━━━━\u001b[0m\u001b[37m\u001b[0m \u001b[1m0s\u001b[0m 1ms/step - accuracy: 0.9743 - loss: 0.1539  \n",
            "Epoch 74/100\n",
            "\u001b[1m75/75\u001b[0m \u001b[32m━━━━━━━━━━━━━━━━━━━━\u001b[0m\u001b[37m\u001b[0m \u001b[1m0s\u001b[0m 1ms/step - accuracy: 0.9680 - loss: 0.2102  \n",
            "Epoch 75/100\n",
            "\u001b[1m75/75\u001b[0m \u001b[32m━━━━━━━━━━━━━━━━━━━━\u001b[0m\u001b[37m\u001b[0m \u001b[1m0s\u001b[0m 1ms/step - accuracy: 0.9710 - loss: 0.1888  \n",
            "Epoch 76/100\n",
            "\u001b[1m75/75\u001b[0m \u001b[32m━━━━━━━━━━━━━━━━━━━━\u001b[0m\u001b[37m\u001b[0m \u001b[1m0s\u001b[0m 1ms/step - accuracy: 0.9789 - loss: 0.1822\n",
            "Epoch 77/100\n",
            "\u001b[1m75/75\u001b[0m \u001b[32m━━━━━━━━━━━━━━━━━━━━\u001b[0m\u001b[37m\u001b[0m \u001b[1m0s\u001b[0m 1ms/step - accuracy: 0.9666 - loss: 0.1843  \n",
            "Epoch 78/100\n",
            "\u001b[1m75/75\u001b[0m \u001b[32m━━━━━━━━━━━━━━━━━━━━\u001b[0m\u001b[37m\u001b[0m \u001b[1m0s\u001b[0m 1ms/step - accuracy: 0.9553 - loss: 0.1629  \n",
            "Epoch 79/100\n",
            "\u001b[1m75/75\u001b[0m \u001b[32m━━━━━━━━━━━━━━━━━━━━\u001b[0m\u001b[37m\u001b[0m \u001b[1m0s\u001b[0m 1ms/step - accuracy: 0.9609 - loss: 0.1608  \n",
            "Epoch 80/100\n",
            "\u001b[1m75/75\u001b[0m \u001b[32m━━━━━━━━━━━━━━━━━━━━\u001b[0m\u001b[37m\u001b[0m \u001b[1m0s\u001b[0m 1ms/step - accuracy: 0.9950 - loss: 0.1468  \n",
            "Epoch 81/100\n",
            "\u001b[1m75/75\u001b[0m \u001b[32m━━━━━━━━━━━━━━━━━━━━\u001b[0m\u001b[37m\u001b[0m \u001b[1m0s\u001b[0m 1ms/step - accuracy: 0.9959 - loss: 0.1414  \n",
            "Epoch 82/100\n",
            "\u001b[1m75/75\u001b[0m \u001b[32m━━━━━━━━━━━━━━━━━━━━\u001b[0m\u001b[37m\u001b[0m \u001b[1m0s\u001b[0m 1ms/step - accuracy: 0.9905 - loss: 0.1442  \n",
            "Epoch 83/100\n",
            "\u001b[1m75/75\u001b[0m \u001b[32m━━━━━━━━━━━━━━━━━━━━\u001b[0m\u001b[37m\u001b[0m \u001b[1m0s\u001b[0m 1ms/step - accuracy: 0.9551 - loss: 0.1801  \n",
            "Epoch 84/100\n",
            "\u001b[1m75/75\u001b[0m \u001b[32m━━━━━━━━━━━━━━━━━━━━\u001b[0m\u001b[37m\u001b[0m \u001b[1m0s\u001b[0m 1ms/step - accuracy: 0.9780 - loss: 0.1697  \n",
            "Epoch 85/100\n",
            "\u001b[1m75/75\u001b[0m \u001b[32m━━━━━━━━━━━━━━━━━━━━\u001b[0m\u001b[37m\u001b[0m \u001b[1m0s\u001b[0m 1ms/step - accuracy: 0.9710 - loss: 0.1422\n",
            "Epoch 86/100\n",
            "\u001b[1m75/75\u001b[0m \u001b[32m━━━━━━━━━━━━━━━━━━━━\u001b[0m\u001b[37m\u001b[0m \u001b[1m0s\u001b[0m 1ms/step - accuracy: 0.9888 - loss: 0.1281  \n",
            "Epoch 87/100\n",
            "\u001b[1m75/75\u001b[0m \u001b[32m━━━━━━━━━━━━━━━━━━━━\u001b[0m\u001b[37m\u001b[0m \u001b[1m0s\u001b[0m 1ms/step - accuracy: 0.9538 - loss: 0.1562  \n",
            "Epoch 88/100\n",
            "\u001b[1m75/75\u001b[0m \u001b[32m━━━━━━━━━━━━━━━━━━━━\u001b[0m\u001b[37m\u001b[0m \u001b[1m0s\u001b[0m 1ms/step - accuracy: 0.9697 - loss: 0.1206  \n",
            "Epoch 89/100\n",
            "\u001b[1m75/75\u001b[0m \u001b[32m━━━━━━━━━━━━━━━━━━━━\u001b[0m\u001b[37m\u001b[0m \u001b[1m0s\u001b[0m 1ms/step - accuracy: 0.9894 - loss: 0.1194\n",
            "Epoch 90/100\n",
            "\u001b[1m75/75\u001b[0m \u001b[32m━━━━━━━━━━━━━━━━━━━━\u001b[0m\u001b[37m\u001b[0m \u001b[1m0s\u001b[0m 1ms/step - accuracy: 0.9882 - loss: 0.1728\n",
            "Epoch 91/100\n",
            "\u001b[1m75/75\u001b[0m \u001b[32m━━━━━━━━━━━━━━━━━━━━\u001b[0m\u001b[37m\u001b[0m \u001b[1m0s\u001b[0m 1ms/step - accuracy: 0.9552 - loss: 0.1482  \n",
            "Epoch 92/100\n",
            "\u001b[1m75/75\u001b[0m \u001b[32m━━━━━━━━━━━━━━━━━━━━\u001b[0m\u001b[37m\u001b[0m \u001b[1m0s\u001b[0m 1ms/step - accuracy: 0.9813 - loss: 0.1264  \n",
            "Epoch 93/100\n",
            "\u001b[1m75/75\u001b[0m \u001b[32m━━━━━━━━━━━━━━━━━━━━\u001b[0m\u001b[37m\u001b[0m \u001b[1m0s\u001b[0m 1ms/step - accuracy: 0.9528 - loss: 0.1428  \n",
            "Epoch 94/100\n",
            "\u001b[1m75/75\u001b[0m \u001b[32m━━━━━━━━━━━━━━━━━━━━\u001b[0m\u001b[37m\u001b[0m \u001b[1m0s\u001b[0m 1ms/step - accuracy: 0.9959 - loss: 0.1067  \n",
            "Epoch 95/100\n",
            "\u001b[1m75/75\u001b[0m \u001b[32m━━━━━━━━━━━━━━━━━━━━\u001b[0m\u001b[37m\u001b[0m \u001b[1m0s\u001b[0m 1ms/step - accuracy: 0.9782 - loss: 0.1336  \n",
            "Epoch 96/100\n",
            "\u001b[1m75/75\u001b[0m \u001b[32m━━━━━━━━━━━━━━━━━━━━\u001b[0m\u001b[37m\u001b[0m \u001b[1m0s\u001b[0m 1ms/step - accuracy: 0.9645 - loss: 0.1394  \n",
            "Epoch 97/100\n",
            "\u001b[1m75/75\u001b[0m \u001b[32m━━━━━━━━━━━━━━━━━━━━\u001b[0m\u001b[37m\u001b[0m \u001b[1m0s\u001b[0m 1ms/step - accuracy: 0.9553 - loss: 0.1364\n",
            "Epoch 98/100\n",
            "\u001b[1m75/75\u001b[0m \u001b[32m━━━━━━━━━━━━━━━━━━━━\u001b[0m\u001b[37m\u001b[0m \u001b[1m0s\u001b[0m 1ms/step - accuracy: 0.9879 - loss: 0.1169  \n",
            "Epoch 99/100\n",
            "\u001b[1m75/75\u001b[0m \u001b[32m━━━━━━━━━━━━━━━━━━━━\u001b[0m\u001b[37m\u001b[0m \u001b[1m0s\u001b[0m 1ms/step - accuracy: 0.9762 - loss: 0.0981  \n",
            "Epoch 100/100\n",
            "\u001b[1m75/75\u001b[0m \u001b[32m━━━━━━━━━━━━━━━━━━━━\u001b[0m\u001b[37m\u001b[0m \u001b[1m0s\u001b[0m 1ms/step - accuracy: 0.9895 - loss: 0.1307  \n"
          ]
        },
        {
          "output_type": "execute_result",
          "data": {
            "text/plain": [
              "<keras.src.callbacks.history.History at 0x7c017445ae10>"
            ]
          },
          "metadata": {},
          "execution_count": 17
        }
      ],
      "source": [
        "# # Configure the model for training.\n",
        "# # Uses the adam optimizer and categorical cross entropy as the loss function.\n",
        "# # Add in some extra metrics - accuracy being the only one.\n",
        "# model.compile(optimizer=\"adam\", loss=\"categorical_crossentropy\", metrics=[\"accuracy\"])\n",
        "\n",
        "# # Fit the model using our training data.\n",
        "# model.fit(inputs_train, outputs_train, epochs=100, batch_size=1, verbose=1)\n",
        "\n",
        "\n",
        "\n",
        "# Configure the model for training.\n",
        "# Uses the adam optimizer and categorical cross entropy as the loss function.\n",
        "# Add in some extra metrics - accuracy being the only one.\n",
        "model.compile(optimizer=\"adam\", loss=\"categorical_crossentropy\", metrics=[\"accuracy\"])\n",
        "\n",
        "# Fit the model using our training data.\n",
        "model.fit(inputs_train, outputs_train, epochs=100, batch_size=1, verbose=1)\n"
      ]
    },
    {
      "cell_type": "markdown",
      "metadata": {
        "id": "oTvxrCteyMkI"
      },
      "source": [
        "## Evaluate the Loss and Accuracy of the Model"
      ]
    },
    {
      "cell_type": "markdown",
      "metadata": {
        "id": "fV5IsPrbyMkI"
      },
      "source": [
        "Now that we have trained our Model we can evalate it using the test data which we extracted before. Using `evaluate()` we expect our return values of loss and accuracy for our given Test set."
      ]
    },
    {
      "cell_type": "code",
      "execution_count": 18,
      "metadata": {
        "colab": {
          "base_uri": "https://localhost:8080/"
        },
        "id": "F5Hlz3QhyMkJ",
        "outputId": "ceb7afd2-5758-4b40-802e-5b743ee6f899"
      },
      "outputs": [
        {
          "output_type": "stream",
          "name": "stdout",
          "text": [
            "\u001b[1m3/3\u001b[0m \u001b[32m━━━━━━━━━━━━━━━━━━━━\u001b[0m\u001b[37m\u001b[0m \u001b[1m0s\u001b[0m 12ms/step - accuracy: 0.9710 - loss: 0.1365 \n",
            "\n",
            "\n",
            "Loss: 0.1347\tAccuracy: 0.9733\n"
          ]
        }
      ],
      "source": [
        "# Evaluate the model using the test data set.\n",
        "loss, accuracy = model.evaluate(inputs_test, outputs_test, verbose=1)\n",
        "\n",
        "# Output the accuracy of the model.\n",
        "print(\"\\n\\nLoss: %6.4f\\tAccuracy: %6.4f\" % (loss, accuracy))"
      ]
    },
    {
      "cell_type": "markdown",
      "metadata": {
        "id": "-h-E36-yyMkK"
      },
      "source": [
        "## Making predictions using the Model\n",
        "\n",
        "To make predictions using our Model we must first prepare the input data to be what the model expects. Here we use a couple of Numpy functions such as `around()` and `expand_dims()` to prepare the input data for prediction.\n",
        "\n",
        "We can then pass get our prediction as a String value from `outputs_vals` which defined earlier in the Notebook."
      ]
    },
    {
      "cell_type": "code",
      "execution_count": 19,
      "metadata": {
        "colab": {
          "base_uri": "https://localhost:8080/"
        },
        "id": "khYiHSBKyMkK",
        "outputId": "36280dd0-b507-4bf7-92e4-b0d7bf7df92b"
      },
      "outputs": [
        {
          "output_type": "stream",
          "name": "stdout",
          "text": [
            "\u001b[1m1/1\u001b[0m \u001b[32m━━━━━━━━━━━━━━━━━━━━\u001b[0m\u001b[37m\u001b[0m \u001b[1m0s\u001b[0m 53ms/step\n",
            "Actual: [0 1 0]\tEstimated: [0 1 0]\n",
            "That means it's a versicolor\n"
          ]
        }
      ],
      "source": [
        "# Predict the class of a single flower.\n",
        "prediction = np.around(model.predict(np.expand_dims(inputs_test[0], axis=0))).astype(int)[0]\n",
        "\n",
        "print(\"Actual: %s\\tEstimated: %s\" % (outputs_test[0].astype(int), prediction))\n",
        "print(\"That means it's a %s\" % outputs_vals[prediction.astype(bool)][0])"
      ]
    },
    {
      "cell_type": "markdown",
      "metadata": {
        "id": "DtGf7lL1yMkL"
      },
      "source": [
        "## Saving and Loading the Model"
      ]
    },
    {
      "cell_type": "markdown",
      "metadata": {
        "id": "JcA78DC-yMkM"
      },
      "source": [
        "Keras offers a very simplistic way to save and load your model."
      ]
    },
    {
      "cell_type": "code",
      "execution_count": 20,
      "metadata": {
        "colab": {
          "base_uri": "https://localhost:8080/"
        },
        "id": "6Hme2ZAMyMkM",
        "outputId": "e7217963-0d65-4676-9623-0ae19d55f41c"
      },
      "outputs": [
        {
          "output_type": "stream",
          "name": "stderr",
          "text": [
            "WARNING:absl:You are saving your model as an HDF5 file via `model.save()` or `keras.saving.save_model(model)`. This file format is considered legacy. We recommend using instead the native Keras format, e.g. `model.save('my_model.keras')` or `keras.saving.save_model(model, 'my_model.keras')`. \n"
          ]
        }
      ],
      "source": [
        "# Save the model to a file for later use.\n",
        "model.save(\"iris_neural_network.h5\")"
      ]
    },
    {
      "cell_type": "markdown",
      "metadata": {
        "id": "U3x6GeyNyMkN"
      },
      "source": [
        "We can easily reload the model in another script using `model = load_model(\"path_to_model.h5\")`"
      ]
    },
    {
      "cell_type": "code",
      "source": [],
      "metadata": {
        "id": "U5KXFQcpgKtk"
      },
      "execution_count": null,
      "outputs": []
    }
  ],
  "metadata": {
    "kernelspec": {
      "display_name": "Python 3",
      "language": "python",
      "name": "python3"
    },
    "language_info": {
      "codemirror_mode": {
        "name": "ipython",
        "version": 3
      },
      "file_extension": ".py",
      "mimetype": "text/x-python",
      "name": "python",
      "nbconvert_exporter": "python",
      "pygments_lexer": "ipython3",
      "version": "3.6.1"
    },
    "colab": {
      "provenance": []
    }
  },
  "nbformat": 4,
  "nbformat_minor": 0
}